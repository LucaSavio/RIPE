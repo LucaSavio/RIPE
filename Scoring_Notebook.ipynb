{
 "cells": [
  {
   "cell_type": "markdown",
   "metadata": {},
   "source": [
    "# Riammissione Pazienti Diabetici"
   ]
  },
  {
   "cell_type": "markdown",
   "metadata": {},
   "source": [
    "Il numero di riammissioni ospedaliere per alcune patologie viene considerato un importante indicatore di qualità di un ospedale, oltre ad impattare in modo pesante sul budget destinato alla sanità.\n",
    "\n",
    "A causa della privacy trovare un buon dataset è difficile: in assenza di dati reali ci siamo basati su un dataset pubblico, reperibile al link https://archive.ics.uci.edu/ml/datasets/diabetes+130-us+hospitals+for+years+1999-2008# e che copre i dati di ricovero relativi a pazienti diabetici in 130 ospedali statunitensi, durante un periodo di 10 anni (1999 - 2008)."
   ]
  },
  {
   "cell_type": "markdown",
   "metadata": {},
   "source": [
    "### Tipi di feature nel dataset\n",
    "Sono registrati 101766 ricoveri unici, fatti da 71518 pazienti differenti, con feature di diverso tipo: \n",
    "* dati anagrafici (sesso, fascia di età, peso)\n",
    "* tipo di ammissione / dimissione / tempo di permanenza in ospedale\n",
    "* reparto di ammissione\n",
    "* numero di esami / operazioni / medicazioni effettuati sul paziente\n",
    "* numero di visite al pronto soccorso / visite specialistiche / ricoveri nell'anno precedente\n",
    "* numero di diagnosi effettuate sul paziente durante il ricovero\n",
    "* codice identificativo delle prime tre diagnosi secondo il codice ICD https://en.wikipedia.org/wiki/International_Classification_of_Diseases \n",
    "* tipo di reparto dove è avvenuto il ricovero\n",
    "* terapia farmacologica, viene indicato se un farmaco è stato usato e come il dosaggio è cambiato nel tempo (stabile, crescente, decrescente)\n",
    "* cambio di terapia diabetica (dosaggio o farmaco)\n",
    "* utilizzo di terapia diabetica\n",
    "* valori glicemia nel sangue, divisi in range ( > 200, > 300, Normale) ed eventualmente \"None\" se l'esame non è stato effettuato\n",
    "* valori del test A1C, divisi per range ( > 7 %, > 8 %, Normale) ed eventualmente \"None\" se l'esame non è stato effettuato\n",
    "\n",
    "**Il campo più importante è quello che indica se il paziente è stato nuovamente ricoverato entro 30 giorni, oltre i 30 giorni o se non è mai stato riammesso in ospedale: sarà oggetto del nostro modello predittivo.**"
   ]
  },
  {
   "cell_type": "markdown",
   "metadata": {},
   "source": [
    "### Preprocessing dei dati\n",
    "Alla base di un buon modello di ML si trovano "
   ]
  },
  {
   "cell_type": "code",
   "execution_count": 9,
   "metadata": {},
   "outputs": [],
   "source": [
    "import pandas as pd\n",
    "\n",
    "original = pd.read_csv('demo_dataset.csv')\n",
    "cleaned = pd.read_csv('demo_dataset_cleaned.csv')"
   ]
  },
  {
   "cell_type": "code",
   "execution_count": 10,
   "metadata": {},
   "outputs": [],
   "source": [
    "X = original.sample(10)\n",
    "ids = X['patient_nbr'].unique()\n",
    "cleaned_X = cleaned.loc[cleaned['patient_nbr'].isin(ids)]"
   ]
  },
  {
   "cell_type": "code",
   "execution_count": 11,
   "metadata": {},
   "outputs": [],
   "source": [
    "data = cleaned_X.drop(['readmitted', 'patient_nbr', 'encounter_id'], axis = 1)"
   ]
  },
  {
   "cell_type": "code",
   "execution_count": 12,
   "metadata": {},
   "outputs": [
    {
     "name": "stdout",
     "output_type": "stream",
     "text": [
      "Patient [0] not readmitted\n",
      "Patient [1] not readmitted\n",
      "Patient [2] not readmitted\n",
      "Patient [3] not readmitted\n",
      "Patient [4] not readmitted\n",
      "Patient [5] not readmitted\n",
      "Patient [6] not readmitted\n",
      "Patient [7] not readmitted\n",
      "Patient [8] not readmitted\n",
      "Patient [9] not readmitted\n"
     ]
    }
   ],
   "source": [
    "scoring_uri = \"http://51219778-b190-4555-8416-bb15bcba4112.westeurope.azurecontainer.io/score\"\n",
    "import requests\n",
    "import json\n",
    "\n",
    "scoring_dataset = data.values.tolist()\n",
    "# Convert the array to a serializable list in a JSON document\n",
    "input_json = json.dumps({\"data\": scoring_dataset})\n",
    "\n",
    "# Set the content type\n",
    "headers = { 'Content-Type':'application/json' }\n",
    "\n",
    "predictions = requests.post(scoring_uri , input_json, headers = headers)\n",
    "predicted_classes = json.loads(predictions.json())\n",
    "\n",
    "for i in range(len(scoring_dataset)):\n",
    "    print (\"Patient {}\".format([i]), predicted_classes[i] )"
   ]
  }
 ],
 "metadata": {
  "kernelspec": {
   "display_name": "Python 3",
   "language": "python",
   "name": "python3"
  },
  "language_info": {
   "codemirror_mode": {
    "name": "ipython",
    "version": 3
   },
   "file_extension": ".py",
   "mimetype": "text/x-python",
   "name": "python",
   "nbconvert_exporter": "python",
   "pygments_lexer": "ipython3",
   "version": "3.8.3"
  }
 },
 "nbformat": 4,
 "nbformat_minor": 4
}
